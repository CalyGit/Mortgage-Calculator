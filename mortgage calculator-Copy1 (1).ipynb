{
 "cells": [
  {
   "cell_type": "code",
   "execution_count": null,
   "id": "957950d1",
   "metadata": {},
   "outputs": [
    {
     "name": "stdout",
     "output_type": "stream",
     "text": [
      "----\u001b[1m WELCOME TO AFCA BANK MORTGAGE CALCULATOR \u001b[0m----\n",
      "\n",
      "\n"
     ]
    }
   ],
   "source": [
    "# welcome message\n",
    "print('----\\033[1m WELCOME TO AFCA BANK MORTGAGE CALCULATOR \\033[0m----')\n",
    "\n",
    "# skipped a line for visibility of my output\n",
    "print('\\n')\n",
    "\n",
    "# prompt the user to enter the principal, interest rate and the number of years\n",
    "# they are going to pay off the mortgage\n",
    "principal=float(input('Enter mortgage loan principal: $'))\n",
    "interest=float(input('Enter annual interest rate(in percentage):'))\n",
    "years=int(input('Enter number of years to pay off the mortgage:'))\n",
    "\n",
    "# multiply by 12 the years entered by a user to get the total number of months needed to offset the mortgage\n",
    "# divide the annual interest percentage by 12 to get the interest rate per month\n",
    "# calculate the monthly payments using the formula M=Principal(i(1+i)^n)/((1+i)^n-1) where M=Total monthly payments,\n",
    "# Principal=Total amount of your loan, i=interest as a monthly percentage and n=Total number of months in your timeline\n",
    "# for paying your mortgage\n",
    "# to calculate the total amount payable at the end of the mortgage, multiply monthly payments by the total number\n",
    "# of months\n",
    "\n",
    "n= years*12\n",
    "i=interest /100 /12\n",
    "M=principal*i*(1+i)**n/((1+i)**n-1)\n",
    "total_amount_paid= M*n\n",
    "\n",
    "print('\\n')\n",
    "# print the output and format the strings to 2dp\n",
    "print(f\"For a {years}-year mortgage loan of ${principal:,.2f}\")\n",
    "print(f\"at an annual interest rate of {interest:.2f}%\")\n",
    "print(f\"you pay ${M:,.2f} monthly\")\n",
    "\n",
    "print(\"----------------------------------------\")\n",
    "print(f\"Total amount paid will be ${total_amount_paid:,.2f}\")\n",
    "print(\"----------------------------------------\")"
   ]
  }
 ],
 "metadata": {
  "kernelspec": {
   "display_name": "Python 3 (ipykernel)",
   "language": "python",
   "name": "python3"
  },
  "language_info": {
   "codemirror_mode": {
    "name": "ipython",
    "version": 3
   },
   "file_extension": ".py",
   "mimetype": "text/x-python",
   "name": "python",
   "nbconvert_exporter": "python",
   "pygments_lexer": "ipython3",
   "version": "3.9.12"
  }
 },
 "nbformat": 4,
 "nbformat_minor": 5
}
